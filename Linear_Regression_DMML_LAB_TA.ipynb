{
  "nbformat": 4,
  "nbformat_minor": 0,
  "metadata": {
    "colab": {
      "name": "Linear Regression DMML LAB TA.ipynb",
      "provenance": []
    },
    "kernelspec": {
      "name": "python3",
      "display_name": "Python 3"
    },
    "language_info": {
      "name": "python"
    }
  },
  "cells": [
    {
      "cell_type": "markdown",
      "source": [
        "# **Scatter Plot**\n",
        "\n",
        "---\n",
        "\n"
      ],
      "metadata": {
        "id": "mLfIxXQZZU-3"
      }
    },
    {
      "cell_type": "markdown",
      "source": [
        "Except x_axis_data and y_axis_data all other parameters are optional and their default value is None. \n",
        "Below are the scatter plot examples with various parameters.\n",
        "\n",
        "s- marker size (can be scalar or array of size equal to size of x or y)\n",
        "\n",
        "c- color of sequence of colors for markers\n",
        "\n",
        "marker- square, circle, triangle,etc.\n",
        "\n",
        "edgecolor- marker border color\n"
      ],
      "metadata": {
        "id": "trdwhKyDYrfu"
      }
    },
    {
      "cell_type": "code",
      "source": [
        "import matplotlib.pyplot as plt\n",
        "\n",
        "x = [5,7,8,7,2,17,2,9,4,11,12,9,6]\n",
        "y = [99,86,87,88,111,86,103,87,94,78,77,85,86]\n",
        "\n",
        "plt.scatter(x, y, marker =\"s\", s = 60, edgecolor =\"green\", c =\"orange\")\n",
        "plt.show()"
      ],
      "metadata": {
        "colab": {
          "base_uri": "https://localhost:8080/",
          "height": 265
        },
        "id": "1EJI7Kx4Xot_",
        "outputId": "2a632d42-fb3c-415e-a3ac-c863b4201d35"
      },
      "execution_count": 11,
      "outputs": [
        {
          "output_type": "display_data",
          "data": {
            "image/png": "[encoded data removed]",
            "text/plain": [
              "<Figure size 432x288 with 1 Axes>"
            ]
          },
          "metadata": {
            "needs_background": "light"
          }
        }
      ]
    },
    {
      "cell_type": "code",
      "source": [
        ""
      ],
      "metadata": {
        "id": "KQJnM4YMYFx5"
      },
      "execution_count": null,
      "outputs": []
    }
  ]
}