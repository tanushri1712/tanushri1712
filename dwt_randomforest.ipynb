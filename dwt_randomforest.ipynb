{
  "cells": [
    {
      "cell_type": "markdown",
      "metadata": {
        "id": "view-in-github",
        "colab_type": "text"
      },
      "source": [
        "<a href=\"https://colab.research.google.com/github/tanushri1712/tanushri1712/blob/main/dwt_randomforest.ipynb\" target=\"_parent\"><img src=\"https://colab.research.google.com/assets/colab-badge.svg\" alt=\"Open In Colab\"/></a>"
      ]
    },
    {
      "cell_type": "markdown",
      "metadata": {
        "id": "jtQXp2z4Cq7j"
      },
      "source": [
        "\n",
        "\n",
        "\n",
        "# Libraries"
      ]
    },
    {
      "cell_type": "code",
      "execution_count": null,
      "metadata": {
        "id": "IHUmRrweE9ev"
      },
      "outputs": [],
      "source": [
        "from mpl_toolkits.mplot3d import Axes3D\n",
        "from sklearn.preprocessing import StandardScaler\n",
        "import matplotlib.pyplot as plt # plotting\n",
        "import numpy as np # linear algebra\n",
        "import pandas as pd # data processing, CSV file I/O (e.g. pd.read_csv)"
      ]
    },
    {
      "cell_type": "markdown",
      "metadata": {
        "id": "yx97ezejCuA6"
      },
      "source": [
        "# *Data after DWT Feature Extraction* "
      ]
    },
    {
      "cell_type": "code",
      "execution_count": null,
      "metadata": {
        "colab": {
          "base_uri": "https://localhost:8080/",
          "height": 357
        },
        "id": "N-timP_5FDJe",
        "outputId": "b89b69da-ff66-497d-e6f5-8f628e1c7079"
      },
      "outputs": [
        {
          "output_type": "execute_result",
          "data": {
            "text/html": [
              "\n",
              "  <div id=\"df-4cf75934-634e-4e74-9c86-0989946ff6d5\">\n",
              "    <div class=\"colab-df-container\">\n",
              "      <div>\n",
              "<style scoped>\n",
              "    .dataframe tbody tr th:only-of-type {\n",
              "        vertical-align: middle;\n",
              "    }\n",
              "\n",
              "    .dataframe tbody tr th {\n",
              "        vertical-align: top;\n",
              "    }\n",
              "\n",
              "    .dataframe thead th {\n",
              "        text-align: right;\n",
              "    }\n",
              "</style>\n",
              "<table border=\"1\" class=\"dataframe\">\n",
              "  <thead>\n",
              "    <tr style=\"text-align: right;\">\n",
              "      <th></th>\n",
              "      <th>0</th>\n",
              "      <th>1</th>\n",
              "      <th>2</th>\n",
              "      <th>3</th>\n",
              "      <th>4</th>\n",
              "      <th>5</th>\n",
              "      <th>6</th>\n",
              "      <th>7</th>\n",
              "      <th>8</th>\n",
              "      <th>9</th>\n",
              "      <th>10</th>\n",
              "      <th>11</th>\n",
              "      <th>12</th>\n",
              "      <th>13</th>\n",
              "      <th>14</th>\n",
              "      <th>15</th>\n",
              "      <th>16</th>\n",
              "      <th>17</th>\n",
              "      <th>18</th>\n",
              "      <th>19</th>\n",
              "      <th>20</th>\n",
              "      <th>21</th>\n",
              "      <th>22</th>\n",
              "      <th>23</th>\n",
              "      <th>24</th>\n",
              "      <th>25</th>\n",
              "      <th>26</th>\n",
              "      <th>27</th>\n",
              "      <th>28</th>\n",
              "      <th>29</th>\n",
              "      <th>30</th>\n",
              "      <th>31</th>\n",
              "      <th>32</th>\n",
              "      <th>33</th>\n",
              "      <th>34</th>\n",
              "      <th>35</th>\n",
              "      <th>36</th>\n",
              "      <th>37</th>\n",
              "      <th>38</th>\n",
              "      <th>39</th>\n",
              "      <th>40</th>\n",
              "      <th>41</th>\n",
              "    </tr>\n",
              "  </thead>\n",
              "  <tbody>\n",
              "    <tr>\n",
              "      <th>0</th>\n",
              "      <td>0</td>\n",
              "      <td>-5.0</td>\n",
              "      <td>1.436</td>\n",
              "      <td>1.434</td>\n",
              "      <td>1.441</td>\n",
              "      <td>1.4505</td>\n",
              "      <td>1.45725</td>\n",
              "      <td>4.000000e-03</td>\n",
              "      <td>0.002</td>\n",
              "      <td>-0.007</td>\n",
              "      <td>-0.0095</td>\n",
              "      <td>-0.00675</td>\n",
              "      <td>1.78</td>\n",
              "      <td>1.805</td>\n",
              "      <td>1.845</td>\n",
              "      <td>1.9075</td>\n",
              "      <td>2.045</td>\n",
              "      <td>8.610000e-18</td>\n",
              "      <td>-0.025</td>\n",
              "      <td>-0.04</td>\n",
              "      <td>-0.0625</td>\n",
              "      <td>-0.1375</td>\n",
              "      <td>2.62</td>\n",
              "      <td>2.620</td>\n",
              "      <td>2.6425</td>\n",
              "      <td>2.67</td>\n",
              "      <td>2.710625</td>\n",
              "      <td>-4.800000e-18</td>\n",
              "      <td>-3.810000e-17</td>\n",
              "      <td>-0.0225</td>\n",
              "      <td>-0.0275</td>\n",
              "      <td>-0.040625</td>\n",
              "      <td>0.82</td>\n",
              "      <td>0.835</td>\n",
              "      <td>0.86</td>\n",
              "      <td>0.8925</td>\n",
              "      <td>0.99125</td>\n",
              "      <td>-3.540000e-17</td>\n",
              "      <td>-0.015</td>\n",
              "      <td>-0.025</td>\n",
              "      <td>-0.0325</td>\n",
              "      <td>-0.09875</td>\n",
              "    </tr>\n",
              "    <tr>\n",
              "      <th>1</th>\n",
              "      <td>0</td>\n",
              "      <td>-5.0</td>\n",
              "      <td>1.436</td>\n",
              "      <td>1.434</td>\n",
              "      <td>1.441</td>\n",
              "      <td>1.4505</td>\n",
              "      <td>1.45725</td>\n",
              "      <td>-4.000000e-03</td>\n",
              "      <td>0.002</td>\n",
              "      <td>-0.007</td>\n",
              "      <td>-0.0095</td>\n",
              "      <td>-0.00675</td>\n",
              "      <td>1.78</td>\n",
              "      <td>1.805</td>\n",
              "      <td>1.845</td>\n",
              "      <td>1.9075</td>\n",
              "      <td>2.045</td>\n",
              "      <td>-8.610000e-18</td>\n",
              "      <td>-0.025</td>\n",
              "      <td>-0.04</td>\n",
              "      <td>-0.0625</td>\n",
              "      <td>-0.1375</td>\n",
              "      <td>2.62</td>\n",
              "      <td>2.620</td>\n",
              "      <td>2.6425</td>\n",
              "      <td>2.67</td>\n",
              "      <td>2.710625</td>\n",
              "      <td>4.800000e-18</td>\n",
              "      <td>-3.810000e-17</td>\n",
              "      <td>-0.0225</td>\n",
              "      <td>-0.0275</td>\n",
              "      <td>-0.040625</td>\n",
              "      <td>0.82</td>\n",
              "      <td>0.835</td>\n",
              "      <td>0.86</td>\n",
              "      <td>0.8925</td>\n",
              "      <td>0.99125</td>\n",
              "      <td>3.540000e-17</td>\n",
              "      <td>-0.015</td>\n",
              "      <td>-0.025</td>\n",
              "      <td>-0.0325</td>\n",
              "      <td>-0.09875</td>\n",
              "    </tr>\n",
              "    <tr>\n",
              "      <th>2</th>\n",
              "      <td>0</td>\n",
              "      <td>-5.0</td>\n",
              "      <td>1.432</td>\n",
              "      <td>1.434</td>\n",
              "      <td>1.441</td>\n",
              "      <td>1.4505</td>\n",
              "      <td>1.45725</td>\n",
              "      <td>4.330000e-17</td>\n",
              "      <td>-0.002</td>\n",
              "      <td>-0.007</td>\n",
              "      <td>-0.0095</td>\n",
              "      <td>-0.00675</td>\n",
              "      <td>1.83</td>\n",
              "      <td>1.805</td>\n",
              "      <td>1.845</td>\n",
              "      <td>1.9075</td>\n",
              "      <td>2.045</td>\n",
              "      <td>-3.000000e-02</td>\n",
              "      <td>0.025</td>\n",
              "      <td>-0.04</td>\n",
              "      <td>-0.0625</td>\n",
              "      <td>-0.1375</td>\n",
              "      <td>2.62</td>\n",
              "      <td>2.620</td>\n",
              "      <td>2.6425</td>\n",
              "      <td>2.67</td>\n",
              "      <td>2.710625</td>\n",
              "      <td>-2.000000e-02</td>\n",
              "      <td>3.810000e-17</td>\n",
              "      <td>-0.0225</td>\n",
              "      <td>-0.0275</td>\n",
              "      <td>-0.040625</td>\n",
              "      <td>0.85</td>\n",
              "      <td>0.835</td>\n",
              "      <td>0.86</td>\n",
              "      <td>0.8925</td>\n",
              "      <td>0.99125</td>\n",
              "      <td>-1.000000e-02</td>\n",
              "      <td>0.015</td>\n",
              "      <td>-0.025</td>\n",
              "      <td>-0.0325</td>\n",
              "      <td>-0.09875</td>\n",
              "    </tr>\n",
              "    <tr>\n",
              "      <th>3</th>\n",
              "      <td>0</td>\n",
              "      <td>-5.0</td>\n",
              "      <td>1.432</td>\n",
              "      <td>1.434</td>\n",
              "      <td>1.441</td>\n",
              "      <td>1.4505</td>\n",
              "      <td>1.45725</td>\n",
              "      <td>-4.330000e-17</td>\n",
              "      <td>-0.002</td>\n",
              "      <td>-0.007</td>\n",
              "      <td>-0.0095</td>\n",
              "      <td>-0.00675</td>\n",
              "      <td>1.83</td>\n",
              "      <td>1.805</td>\n",
              "      <td>1.845</td>\n",
              "      <td>1.9075</td>\n",
              "      <td>2.045</td>\n",
              "      <td>3.000000e-02</td>\n",
              "      <td>0.025</td>\n",
              "      <td>-0.04</td>\n",
              "      <td>-0.0625</td>\n",
              "      <td>-0.1375</td>\n",
              "      <td>2.62</td>\n",
              "      <td>2.620</td>\n",
              "      <td>2.6425</td>\n",
              "      <td>2.67</td>\n",
              "      <td>2.710625</td>\n",
              "      <td>2.000000e-02</td>\n",
              "      <td>3.810000e-17</td>\n",
              "      <td>-0.0225</td>\n",
              "      <td>-0.0275</td>\n",
              "      <td>-0.040625</td>\n",
              "      <td>0.85</td>\n",
              "      <td>0.835</td>\n",
              "      <td>0.86</td>\n",
              "      <td>0.8925</td>\n",
              "      <td>0.99125</td>\n",
              "      <td>1.000000e-02</td>\n",
              "      <td>0.015</td>\n",
              "      <td>-0.025</td>\n",
              "      <td>-0.0325</td>\n",
              "      <td>-0.09875</td>\n",
              "    </tr>\n",
              "    <tr>\n",
              "      <th>4</th>\n",
              "      <td>0</td>\n",
              "      <td>-5.0</td>\n",
              "      <td>1.444</td>\n",
              "      <td>1.448</td>\n",
              "      <td>1.441</td>\n",
              "      <td>1.4505</td>\n",
              "      <td>1.45725</td>\n",
              "      <td>-1.200000e-02</td>\n",
              "      <td>-0.004</td>\n",
              "      <td>0.007</td>\n",
              "      <td>-0.0095</td>\n",
              "      <td>-0.00675</td>\n",
              "      <td>1.86</td>\n",
              "      <td>1.885</td>\n",
              "      <td>1.845</td>\n",
              "      <td>1.9075</td>\n",
              "      <td>2.045</td>\n",
              "      <td>-2.000000e-02</td>\n",
              "      <td>-0.025</td>\n",
              "      <td>0.04</td>\n",
              "      <td>-0.0625</td>\n",
              "      <td>-0.1375</td>\n",
              "      <td>2.65</td>\n",
              "      <td>2.665</td>\n",
              "      <td>2.6425</td>\n",
              "      <td>2.67</td>\n",
              "      <td>2.710625</td>\n",
              "      <td>-1.000000e-02</td>\n",
              "      <td>-1.500000e-02</td>\n",
              "      <td>0.0225</td>\n",
              "      <td>-0.0275</td>\n",
              "      <td>-0.040625</td>\n",
              "      <td>0.87</td>\n",
              "      <td>0.885</td>\n",
              "      <td>0.86</td>\n",
              "      <td>0.8925</td>\n",
              "      <td>0.99125</td>\n",
              "      <td>-1.000000e-02</td>\n",
              "      <td>-0.015</td>\n",
              "      <td>0.025</td>\n",
              "      <td>-0.0325</td>\n",
              "      <td>-0.09875</td>\n",
              "    </tr>\n",
              "  </tbody>\n",
              "</table>\n",
              "</div>\n",
              "      <button class=\"colab-df-convert\" onclick=\"convertToInteractive('df-4cf75934-634e-4e74-9c86-0989946ff6d5')\"\n",
              "              title=\"Convert this dataframe to an interactive table.\"\n",
              "              style=\"display:none;\">\n",
              "        \n",
              "  <svg xmlns=\"http://www.w3.org/2000/svg\" height=\"24px\"viewBox=\"0 0 24 24\"\n",
              "       width=\"24px\">\n",
              "    <path d=\"M0 0h24v24H0V0z\" fill=\"none\"/>\n",
              "    <path d=\"M18.56 5.44l.94 2.06.94-2.06 2.06-.94-2.06-.94-.94-2.06-.94 2.06-2.06.94zm-11 1L8.5 8.5l.94-2.06 2.06-.94-2.06-.94L8.5 2.5l-.94 2.06-2.06.94zm10 10l.94 2.06.94-2.06 2.06-.94-2.06-.94-.94-2.06-.94 2.06-2.06.94z\"/><path d=\"M17.41 7.96l-1.37-1.37c-.4-.4-.92-.59-1.43-.59-.52 0-1.04.2-1.43.59L10.3 9.45l-7.72 7.72c-.78.78-.78 2.05 0 2.83L4 21.41c.39.39.9.59 1.41.59.51 0 1.02-.2 1.41-.59l7.78-7.78 2.81-2.81c.8-.78.8-2.07 0-2.86zM5.41 20L4 18.59l7.72-7.72 1.47 1.35L5.41 20z\"/>\n",
              "  </svg>\n",
              "      </button>\n",
              "      \n",
              "  <style>\n",
              "    .colab-df-container {\n",
              "      display:flex;\n",
              "      flex-wrap:wrap;\n",
              "      gap: 12px;\n",
              "    }\n",
              "\n",
              "    .colab-df-convert {\n",
              "      background-color: #E8F0FE;\n",
              "      border: none;\n",
              "      border-radius: 50%;\n",
              "      cursor: pointer;\n",
              "      display: none;\n",
              "      fill: #1967D2;\n",
              "      height: 32px;\n",
              "      padding: 0 0 0 0;\n",
              "      width: 32px;\n",
              "    }\n",
              "\n",
              "    .colab-df-convert:hover {\n",
              "      background-color: #E2EBFA;\n",
              "      box-shadow: 0px 1px 2px rgba(60, 64, 67, 0.3), 0px 1px 3px 1px rgba(60, 64, 67, 0.15);\n",
              "      fill: #174EA6;\n",
              "    }\n",
              "\n",
              "    [theme=dark] .colab-df-convert {\n",
              "      background-color: #3B4455;\n",
              "      fill: #D2E3FC;\n",
              "    }\n",
              "\n",
              "    [theme=dark] .colab-df-convert:hover {\n",
              "      background-color: #434B5C;\n",
              "      box-shadow: 0px 1px 3px 1px rgba(0, 0, 0, 0.15);\n",
              "      filter: drop-shadow(0px 1px 2px rgba(0, 0, 0, 0.3));\n",
              "      fill: #FFFFFF;\n",
              "    }\n",
              "  </style>\n",
              "\n",
              "      <script>\n",
              "        const buttonEl =\n",
              "          document.querySelector('#df-4cf75934-634e-4e74-9c86-0989946ff6d5 button.colab-df-convert');\n",
              "        buttonEl.style.display =\n",
              "          google.colab.kernel.accessAllowed ? 'block' : 'none';\n",
              "\n",
              "        async function convertToInteractive(key) {\n",
              "          const element = document.querySelector('#df-4cf75934-634e-4e74-9c86-0989946ff6d5');\n",
              "          const dataTable =\n",
              "            await google.colab.kernel.invokeFunction('convertToInteractive',\n",
              "                                                     [key], {});\n",
              "          if (!dataTable) return;\n",
              "\n",
              "          const docLinkHtml = 'Like what you see? Visit the ' +\n",
              "            '<a target=\"_blank\" href=https://colab.research.google.com/notebooks/data_table.ipynb>data table notebook</a>'\n",
              "            + ' to learn more about interactive tables.';\n",
              "          element.innerHTML = '';\n",
              "          dataTable['output_type'] = 'display_data';\n",
              "          await google.colab.output.renderOutput(dataTable, element);\n",
              "          const docLink = document.createElement('div');\n",
              "          docLink.innerHTML = docLinkHtml;\n",
              "          element.appendChild(docLink);\n",
              "        }\n",
              "      </script>\n",
              "    </div>\n",
              "  </div>\n",
              "  "
            ],
            "text/plain": [
              "   0    1      2      3      4   ...            37     38     39      40       41\n",
              "0   0 -5.0  1.436  1.434  1.441  ... -3.540000e-17 -0.015 -0.025 -0.0325 -0.09875\n",
              "1   0 -5.0  1.436  1.434  1.441  ...  3.540000e-17 -0.015 -0.025 -0.0325 -0.09875\n",
              "2   0 -5.0  1.432  1.434  1.441  ... -1.000000e-02  0.015 -0.025 -0.0325 -0.09875\n",
              "3   0 -5.0  1.432  1.434  1.441  ...  1.000000e-02  0.015 -0.025 -0.0325 -0.09875\n",
              "4   0 -5.0  1.444  1.448  1.441  ... -1.000000e-02 -0.015  0.025 -0.0325 -0.09875\n",
              "\n",
              "[5 rows x 42 columns]"
            ]
          },
          "metadata": {},
          "execution_count": 42
        }
      ],
      "source": [
        "df = pd.read_csv('dwt.csv', header=None, delimiter=',', quotechar='\"')\n",
        "df.head() "
      ]
    },
    {
      "cell_type": "code",
      "execution_count": null,
      "metadata": {
        "colab": {
          "base_uri": "https://localhost:8080/"
        },
        "id": "V7_bVuP2FWfu",
        "outputId": "c475d397-db1f-49e2-d621-f249c6293887"
      },
      "outputs": [
        {
          "output_type": "stream",
          "name": "stdout",
          "text": [
            "      Target  Time    ba1  ...           ed3           ed4           ed5\n",
            "0          0 -5.00  1.436  ... -2.500000e-02 -3.250000e-02 -9.875000e-02\n",
            "1          0 -5.00  1.436  ... -2.500000e-02 -3.250000e-02 -9.875000e-02\n",
            "2          0 -5.00  1.432  ... -2.500000e-02 -3.250000e-02 -9.875000e-02\n",
            "3          0 -5.00  1.432  ... -2.500000e-02 -3.250000e-02 -9.875000e-02\n",
            "4          0 -5.00  1.444  ...  2.500000e-02 -3.250000e-02 -9.875000e-02\n",
            "...      ...   ...    ...  ...           ...           ...           ...\n",
            "3646       3 -4.03  1.408  ...  1.750000e-02  4.000000e-02  7.750000e-02\n",
            "3647       3 -4.03  1.408  ...  1.750000e-02  4.000000e-02  7.750000e-02\n",
            "3648       3 -4.03  1.396  ... -3.660000e-17 -2.260000e-18 -4.130000e-18\n",
            "3649       3 -4.03  1.396  ... -3.660000e-17 -2.260000e-18 -4.130000e-18\n",
            "3650       3 -4.03  1.384  ... -3.660000e-17 -2.260000e-18 -4.130000e-18\n",
            "\n",
            "[3651 rows x 42 columns]\n"
          ]
        }
      ],
      "source": [
        "# adding column name to the respective columns\n",
        "df.columns =['Target','Time', 'ba1', 'ba2','ba3','ba4','ba5','bd1', 'bd2','bd3','bd4','bd5','ca1','ca2','ca3','ca4','ca5', 'cd1', 'cd2','cd3','cd4','cd5','da1','da2','da3','da4','da5','dd1','dd2','dd3','dd4','dd5','ea1','ea2','ea3','ea4','ea5','ed1','ed2','ed3','ed4','ed5']\n",
        "  \n",
        "# displaying the DataFrame\n",
        "print(df)"
      ]
    },
    {
      "cell_type": "markdown",
      "metadata": {
        "id": "x47xwNuECi0q"
      },
      "source": [
        "# Scaling"
      ]
    },
    {
      "cell_type": "code",
      "execution_count": null,
      "metadata": {
        "id": "x5Pur41zPlB1"
      },
      "outputs": [],
      "source": [
        "from sklearn import decomposition, datasets\n",
        "from sklearn.preprocessing import StandardScaler"
      ]
    },
    {
      "cell_type": "code",
      "execution_count": null,
      "metadata": {
        "colab": {
          "base_uri": "https://localhost:8080/"
        },
        "id": "qrvxWrNePk_H",
        "outputId": "409952db-9b9d-4b2f-e742-f3a71a5de36f"
      },
      "outputs": [
        {
          "output_type": "stream",
          "name": "stdout",
          "text": [
            "(3651, 42)\n",
            "[[-1.61432034e+00 -2.22676465e+00 -1.63829706e+00 ... -8.52080534e-01\n",
            "  -5.40382361e-01 -8.53410074e-01]\n",
            " [-1.61432034e+00 -2.22676465e+00 -1.63829706e+00 ... -8.52080534e-01\n",
            "  -5.40382361e-01 -8.53410074e-01]\n",
            " [-1.61432034e+00 -2.22676465e+00 -1.67425456e+00 ... -8.52080534e-01\n",
            "  -5.40382361e-01 -8.53410074e-01]\n",
            " ...\n",
            " [-2.05173217e-02  2.60797635e-01 -1.99787207e+00 ... -1.24642088e-15\n",
            "  -3.71981501e-17 -3.51663935e-17]\n",
            " [-2.05173217e-02  2.60797635e-01 -1.99787207e+00 ... -1.24642088e-15\n",
            "  -3.71981501e-17 -3.51663935e-17]\n",
            " [-2.05173217e-02  2.60797635e-01 -2.10574458e+00 ... -1.24642088e-15\n",
            "  -3.71981501e-17 -3.51663935e-17]]\n"
          ]
        }
      ],
      "source": [
        "\n",
        "std_slc = StandardScaler()\n",
        "X_std = std_slc.fit_transform(df)\n",
        "\n",
        "print(X_std.shape)\n",
        "print(X_std)"
      ]
    },
    {
      "cell_type": "markdown",
      "metadata": {
        "id": "RRi9pEL0PmJt"
      },
      "source": [
        "# PCA"
      ]
    },
    {
      "cell_type": "code",
      "execution_count": null,
      "metadata": {
        "colab": {
          "base_uri": "https://localhost:8080/"
        },
        "id": "65v9HE-YPk9F",
        "outputId": "be30ea73-d8d6-4868-850d-72d1dc43b3ff"
      },
      "outputs": [
        {
          "output_type": "stream",
          "name": "stdout",
          "text": [
            "(3651, 4)\n",
            "[[ 5.06192178 -1.18607594  0.99996902  2.01378333]\n",
            " [ 5.0619308  -1.18606305  0.99988354  2.01565898]\n",
            " [ 5.07646985 -1.14648096  1.03788332  2.26628138]\n",
            " ...\n",
            " [ 5.72060573 -0.41304736  2.00082982 -0.4490796 ]\n",
            " [ 5.72072982 -0.41287097  2.00027328 -0.4289078 ]\n",
            " [ 5.74794618 -0.4077165   2.06391219 -0.31914737]]\n"
          ]
        }
      ],
      "source": [
        "    pca = decomposition.PCA(n_components=4)\n",
        "\n",
        "    X_std_pca = pca.fit_transform(X_std)\n",
        "\n",
        "    print(X_std_pca.shape)\n",
        "    print(X_std_pca)"
      ]
    },
    {
      "cell_type": "markdown",
      "metadata": {
        "id": "UZ-TvpjcH_i1"
      },
      "source": [
        "# FEATURE SELECTION BY RF"
      ]
    },
    {
      "cell_type": "code",
      "execution_count": null,
      "metadata": {
        "id": "Id9KgnViG20W"
      },
      "outputs": [],
      "source": [
        "import pandas as pd\n",
        "from sklearn.ensemble import RandomForestClassifier\n",
        "from sklearn.feature_selection import SelectFromModel\n",
        "from sklearn.model_selection import train_test_split"
      ]
    },
    {
      "cell_type": "code",
      "execution_count": null,
      "metadata": {
        "colab": {
          "base_uri": "https://localhost:8080/"
        },
        "id": "F3rtX4qIIa21",
        "outputId": "81fe1d6e-1a06-40f6-d64c-810a2d334f73"
      },
      "outputs": [
        {
          "output_type": "execute_result",
          "data": {
            "text/plain": [
              "Index([], dtype='object')"
            ]
          },
          "metadata": {},
          "execution_count": 48
        }
      ],
      "source": [
        "#Checking if any columns have missing values\n",
        "df.columns[df.isna().any()]"
      ]
    },
    {
      "cell_type": "code",
      "execution_count": null,
      "metadata": {
        "id": "YRIkZ-VRJ_FI"
      },
      "outputs": [],
      "source": [
        "#Importing Random Forest and feature selection libraries\n",
        "from sklearn.ensemble import RandomForestClassifier\n",
        "from sklearn.feature_selection import SelectFromModel\n",
        "from sklearn.model_selection import train_test_split\n",
        "X = df.drop('Target',axis=1)\n",
        "y = df['Target']\n",
        "\n",
        "X_train, X_test, y_train, y_test = train_test_split(X_std_pca, y, test_size=0.33, random_state=42)"
      ]
    },
    {
      "cell_type": "code",
      "execution_count": null,
      "metadata": {
        "id": "5-ooTezYK5qk",
        "outputId": "33ae2502-d8b8-4a17-cf38-c0f52439b59d",
        "colab": {
          "base_uri": "https://localhost:8080/"
        }
      },
      "outputs": [
        {
          "output_type": "execute_result",
          "data": {
            "text/plain": [
              "0.9219917012448133"
            ]
          },
          "metadata": {},
          "execution_count": 62
        }
      ],
      "source": [
        "#calculating accuracy with all features\n",
        "from sklearn.metrics import accuracy_score\n",
        "clf = RandomForestClassifier(n_estimators=1000, random_state=0, n_jobs=-1)\n",
        "clf.fit(X_train, y_train)\n",
        "y_pred = clf.predict(X_test)\n",
        "accuracy_score(y_test, y_pred)"
      ]
    },
    {
      "cell_type": "code",
      "execution_count": null,
      "metadata": {
        "id": "HG3NkFQPLB5Q",
        "outputId": "85f78c28-1402-412d-fd1e-091a741b0455",
        "colab": {
          "base_uri": "https://localhost:8080/"
        }
      },
      "outputs": [
        {
          "output_type": "stream",
          "name": "stdout",
          "text": [
            "              precision    recall  f1-score   support\n",
            "\n",
            "           0       0.99      0.99      0.99       156\n",
            "           1       0.94      0.91      0.92       119\n",
            "           2       0.88      0.86      0.87       189\n",
            "           3       0.91      0.94      0.93       351\n",
            "           4       0.91      0.81      0.86        93\n",
            "           5       0.88      0.87      0.88        85\n",
            "           6       0.94      0.97      0.95       212\n",
            "\n",
            "    accuracy                           0.92      1205\n",
            "   macro avg       0.92      0.91      0.91      1205\n",
            "weighted avg       0.92      0.92      0.92      1205\n",
            "\n"
          ]
        }
      ],
      "source": [
        "\n",
        "from sklearn.metrics import classification_report\n",
        "print(classification_report(y_test,y_pred))"
      ]
    },
    {
      "cell_type": "code",
      "execution_count": null,
      "metadata": {
        "id": "2DfybpByLDjX",
        "outputId": "14e0056a-654f-47c1-fa47-b7c437b10bb2",
        "colab": {
          "base_uri": "https://localhost:8080/"
        }
      },
      "outputs": [
        {
          "output_type": "execute_result",
          "data": {
            "text/plain": [
              "SelectFromModel(estimator=RandomForestClassifier(n_estimators=1000),\n",
              "                threshold=0.02)"
            ]
          },
          "metadata": {},
          "execution_count": 64
        }
      ],
      "source": [
        "#Using selectFromModelto choose the most important features\n",
        "#Setting threshold as 0.02\n",
        "\n",
        "sel = SelectFromModel(RandomForestClassifier(n_estimators = 1000),threshold = 0.02)\n",
        "sel.fit(X_train, y_train)"
      ]
    },
    {
      "cell_type": "code",
      "execution_count": null,
      "metadata": {
        "id": "BeMHL8W0LIdI",
        "outputId": "1ee82a29-0f7a-415c-fe3f-74cbfab1845a",
        "colab": {
          "base_uri": "https://localhost:8080/"
        }
      },
      "outputs": [
        {
          "output_type": "execute_result",
          "data": {
            "text/plain": [
              "array([ True,  True,  True,  True])"
            ]
          },
          "metadata": {},
          "execution_count": 65
        }
      ],
      "source": [
        "#Printing the boolean values of the important columns\n",
        "sel.get_support()"
      ]
    },
    {
      "cell_type": "code",
      "execution_count": null,
      "metadata": {
        "id": "71qWJkMwLIQQ",
        "outputId": "6460ca20-72db-43a5-f2a8-d0328b9b08a7",
        "colab": {
          "base_uri": "https://localhost:8080/"
        }
      },
      "outputs": [
        {
          "output_type": "execute_result",
          "data": {
            "text/plain": [
              "Index(['Time', 'ba4', 'ba5', 'bd5', 'ca4', 'ca5', 'cd5', 'da4', 'da5', 'dd5',\n",
              "       'ea4', 'ea5', 'ed5'],\n",
              "      dtype='object')"
            ]
          },
          "metadata": {},
          "execution_count": 71
        }
      ],
      "source": [
        "selected_features"
      ]
    },
    {
      "cell_type": "code",
      "execution_count": null,
      "metadata": {
        "colab": {
          "base_uri": "https://localhost:8080/"
        },
        "id": "ypZ13C6vLNPY",
        "outputId": "246bed87-ecc3-482e-8160-c8a890507062"
      },
      "outputs": [
        {
          "output_type": "execute_result",
          "data": {
            "text/plain": [
              "0.9966804979253112"
            ]
          },
          "metadata": {},
          "execution_count": 72
        }
      ],
      "source": [
        "X = df[selected_features]\n",
        "y = df['Target']\n",
        "X_train, X_test, y_train, y_test = train_test_split(X, y, test_size=0.33, random_state=42)\n",
        "\n",
        "\n",
        "#fitting the model with the most importart features\n",
        "clf2 = RandomForestClassifier(n_estimators=1000, random_state=0, n_jobs=-1)\n",
        "clf2.fit(X_train, y_train)\n",
        "y_pred = clf2.predict(X_test)\n",
        "accuracy_score(y_test, y_pred)"
      ]
    },
    {
      "cell_type": "code",
      "execution_count": null,
      "metadata": {
        "colab": {
          "base_uri": "https://localhost:8080/"
        },
        "id": "5dmz8BWTLRVQ",
        "outputId": "0e7b3de3-6365-4874-b191-af09aa5f8de9"
      },
      "outputs": [
        {
          "output_type": "stream",
          "name": "stdout",
          "text": [
            "              precision    recall  f1-score   support\n",
            "\n",
            "           0       1.00      1.00      1.00       156\n",
            "           1       1.00      1.00      1.00       119\n",
            "           2       0.98      1.00      0.99       189\n",
            "           3       1.00      0.99      1.00       351\n",
            "           4       0.99      1.00      0.99        93\n",
            "           5       1.00      0.99      0.99        85\n",
            "           6       1.00      1.00      1.00       212\n",
            "\n",
            "    accuracy                           1.00      1205\n",
            "   macro avg       1.00      1.00      1.00      1205\n",
            "weighted avg       1.00      1.00      1.00      1205\n",
            "\n"
          ]
        }
      ],
      "source": [
        "print(classification_report(y_test,y_pred))"
      ]
    }
  ],
  "metadata": {
    "colab": {
      "collapsed_sections": [],
      "provenance": [],
      "include_colab_link": true
    },
    "kernelspec": {
      "display_name": "Python 3",
      "name": "python3"
    },
    "language_info": {
      "name": "python"
    }
  },
  "nbformat": 4,
  "nbformat_minor": 0
}